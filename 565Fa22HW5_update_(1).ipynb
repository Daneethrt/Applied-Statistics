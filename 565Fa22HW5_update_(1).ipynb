{
  "nbformat": 4,
  "nbformat_minor": 0,
  "metadata": {
    "colab": {
      "provenance": []
    },
    "kernelspec": {
      "name": "python3",
      "display_name": "Python 3"
    },
    "language_info": {
      "name": "python"
    }
  },
  "cells": [
    {
      "cell_type": "code",
      "execution_count": null,
      "metadata": {
        "id": "hPY0Yzeq6dnP",
        "colab": {
          "base_uri": "https://localhost:8080/"
        },
        "outputId": "53463359-11ad-4a49-e117-e1684ae1200b"
      },
      "outputs": [
        {
          "output_type": "stream",
          "name": "stdout",
          "text": [
            "Populating the interactive namespace from numpy and matplotlib\n"
          ]
        }
      ],
      "source": [
        "%pylab inline \n",
        "import pandas as pd\n",
        "from scipy import linalg\n",
        "from sklearn import tree\n",
        "from itertools import combinations\n",
        "import scipy\n",
        "import scipy.io as io\n",
        "from scipy.io import mmread\n",
        "import scipy.sparse as sparse"
      ]
    },
    {
      "cell_type": "markdown",
      "source": [
        "$\\def\\m#1{\\mathbf{#1}}$\n",
        "$\\def\\mm#1{\\boldsymbol{#1}}$\n",
        "$\\def\\mb#1{\\mathbb{#1}}$\n",
        "$\\def\\c#1{\\mathcal{#1}}$\n",
        "$\\def\\mr#1{\\mathrm{#1}}$\n",
        "$\\newenvironment{rmat}{\\left[\\begin{array}{rrrrrrrrrrrrr}}{\\end{array}\\right]}$\n",
        "$\\newcommand\\brm{\\begin{rmat}}$\n",
        "$\\newcommand\\erm{\\end{rmat}}$\n",
        "$\\newenvironment{cmat}{\\left[\\begin{array}{ccccccccc}}{\\end{array}\\right]}$\n",
        "$\\newcommand\\bcm{\\begin{cmat}}$\n",
        "$\\newcommand\\ecm{\\end{cmat}}$\n",
        "# Homework 5\n",
        "## Homework guideline\n",
        "- The deadline is Dec 7th 10:30am. Submission after the deadline will not be graded. \n",
        "\n",
        "\n",
        "- Submit your work(your reasoning and your code) as a SINGLE .ipynb document. Please rename the document as _HW1_YOURNAME.ipynb_ (for example, _HW1_FELIX.ipynb_). You are responsible for checking that you have correctly submitted the correct document. If your code cannot run, you may receive NO point. \n",
        "\n",
        "- Please justify all short answers with a brief explanation. \n",
        "\n",
        "\n",
        "\n",
        "- You only use the Python packages included in the following cell. You are not allowed to use other advanced package or modules unless you are permitted to. \n",
        "\n",
        "- In your final submission include the plots produced by the unedited code as presented below, as well as any additional plots produced after editing the code during the course of a problem. You may find it necessary to copy/paste relevant code into additional cells to accomplish this.\n",
        "\n",
        "- Feel free to use the lecture notes and other resources. But you\n",
        "must understand, write, and hand in your own answers. In addition, you must write and submit\n",
        "your own code in the programming part of the assignment (we may run your code).\n",
        "If you copy someone else homework solution, both of you may receive ZERO point. \n",
        "\n",
        "\n",
        "- Colab is preferred. However, if you use Anaconda, please download the .mat file locally and save it to the same folder as this homework file. \n",
        "\n"
      ],
      "metadata": {
        "id": "QV2D7Og46iW5"
      }
    },
    {
      "cell_type": "markdown",
      "source": [
        "**Collaboration:** List the names of all people you collaborated with and for which question(s). This is important!"
      ],
      "metadata": {
        "id": "qwOQPe_F7eC9"
      }
    },
    {
      "cell_type": "markdown",
      "source": [
        "\n",
        "\n",
        "---\n",
        "\n",
        "\n",
        "\n",
        "---\n",
        "# Q1: SPECTF Heart Data (30pt)\n",
        "In this programming exercise, we will get started with using scikit-learn and python by using an existing\n",
        "decision tree implementation provided with scikit-learn.\n",
        "\n",
        "### Data Set Description\n",
        "We will be applying decision tree learning to the evaluation of cardiac Single Proton Emission Computed\n",
        "Tomography (SPECT) images. We will work with a database of 267 SPECT image sets, each of which corresponds to a patient. Each patient’s scan was classified as either “normal(0)” or “abnormal(1)” by a physician; your job is to train a **classifier** to automatically evaluate SPECT image sets based on this training data. Instead\n",
        "of working with raw image sets, each SPECT image set was processed to extract 44 continuous features\n",
        "that summarize the original SPECT images. Each feature is a number between 0 and 100 corresponding\n",
        "to a “region of interest” in the image during stress or at-rest tests. \n",
        "\n",
        "The data is given in `SPECTF.dat`: the\n",
        "first column represents the class label and the remaining columns represent the features. The SPECTF data\n",
        "originally came from http://archive.ics.uci.edu/ml/datasets/SPECTF+Heart.\n"
      ],
      "metadata": {
        "id": "5xearCYA2vLL"
      }
    },
    {
      "cell_type": "code",
      "source": [
        "!wget https://raw.githubusercontent.com/yexf308/AppliedStatistics/main/Homework/HW4/SPECTF.dat?raw=true -O SPECTF.dat"
      ],
      "metadata": {
        "id": "R3U2eLVi247f",
        "colab": {
          "base_uri": "https://localhost:8080/"
        },
        "outputId": "4ff61ee3-98f7-4ab1-ba4b-34c3df9ddcce"
      },
      "execution_count": null,
      "outputs": [
        {
          "output_type": "stream",
          "name": "stdout",
          "text": [
            "--2022-12-07 14:15:59--  https://raw.githubusercontent.com/yexf308/AppliedStatistics/main/Homework/HW4/SPECTF.dat?raw=true\n",
            "Resolving raw.githubusercontent.com (raw.githubusercontent.com)... 185.199.108.133, 185.199.109.133, 185.199.110.133, ...\n",
            "Connecting to raw.githubusercontent.com (raw.githubusercontent.com)|185.199.108.133|:443... connected.\n",
            "HTTP request sent, awaiting response... 200 OK\n",
            "Length: 35764 (35K) [text/plain]\n",
            "Saving to: ‘SPECTF.dat’\n",
            "\n",
            "SPECTF.dat          100%[===================>]  34.93K  --.-KB/s    in 0s      \n",
            "\n",
            "2022-12-07 14:16:00 (104 MB/s) - ‘SPECTF.dat’ saved [35764/35764]\n",
            "\n"
          ]
        }
      ]
    },
    {
      "cell_type": "code",
      "source": [
        "data = np.loadtxt('SPECTF.dat', delimiter=',')\n",
        "X = data[:, 1:]\n",
        "y = np.array([data[:, 0]]).T\n",
        "n,d = X.shape"
      ],
      "metadata": {
        "id": "QAH0eqdD27Sx"
      },
      "execution_count": null,
      "outputs": []
    },
    {
      "cell_type": "code",
      "source": [
        "print(X.shape)\n",
        "print(y.shape)"
      ],
      "metadata": {
        "id": "BlOo6VtK3NdS",
        "colab": {
          "base_uri": "https://localhost:8080/"
        },
        "outputId": "6b24e126-76a4-4230-88bb-d118e1cbb1d7"
      },
      "execution_count": null,
      "outputs": [
        {
          "output_type": "stream",
          "name": "stdout",
          "text": [
            "(267, 44)\n",
            "(267, 1)\n"
          ]
        }
      ]
    },
    {
      "cell_type": "markdown",
      "source": [
        "\n",
        "\n",
        "---\n",
        "\n",
        "\n",
        "### Q1.1 Cross-validation (30pt)\n",
        "In this problem, we will 9-fold validate to determine the hyperparameter: the  maximum layer of the decision tree. \n",
        "1. Randomize the order of the instances in the data set, and split the data into training, validation and testing sets with 80%, 10% and 10%. \n",
        "\n",
        "2. Perform 9-fold cross validation over the training and validation datasets, and record **the training error and validation error** for the decision tree with maximum layer from 1 to 10. \n",
        "\n",
        "3. Since the contruction of decision tree in sklearn is random, please repeat the process of step 1 and 2 **100 trials**, and report **the mean and standard deviation** of the training error and validation error over all 100 trials of  9-fold validation. Be certain to shuffle the data at the start of each trial, but never within a trial.\n",
        "\n",
        "4. Plot mean of both errors in the same figure vs the maximum layer and report the optimal maximum layer. \n",
        "\n",
        "5. Combine the training and validation dataset, build the decision tree classifier with the optimal maximum layer and report the testing error on predicting the testing dataset.  \n",
        "\n",
        "Note although scikit-learn provides libraries that implement 9-fold validation, you may not use them\n",
        "for this assignment – you must implement 9-fold validation yourself.\n",
        "\n",
        "To display the standard deviations on the plot, see errorbar (http://matplotlib.org/examples/statistics/errorbar_demo_features.html) functions in matplotlib."
      ],
      "metadata": {
        "id": "e2S1gZeT3SbA"
      }
    },
    {
      "cell_type": "code",
      "source": [
        "# Q1.1  your code starts here\n",
        "from sklearn.model_selection import train_test_split\n",
        "from numpy import mean\n",
        "from numpy import std\n",
        "from sklearn.datasets import make_classification\n",
        "from sklearn.model_selection import KFold\n",
        "from sklearn.model_selection import cross_val_score\n",
        "from sklearn.linear_model import LogisticRegression\n",
        "# set aside 10% of train and test data for evaluation\n",
        "train, test = train_test_split(data,test_size=0.1, random_state=9)\n",
        "\n",
        "# Use the same function above for the validation set\n",
        "train, val= train_test_split(train,test_size=0.1, random_state= 9) # 0.1 x 0.8 = 0.8\n",
        "\n",
        "\n"
      ],
      "metadata": {
        "id": "ZZ9kgSjn3dc9"
      },
      "execution_count": null,
      "outputs": []
    },
    {
      "cell_type": "markdown",
      "source": [
        "# Your Solution:"
      ],
      "metadata": {
        "id": "viviQ0ob3sbT"
      }
    },
    {
      "cell_type": "code",
      "source": [
        "# SECTION-6  MTL MODEL IMAGE VIEW\n",
        "# Importing libraries for visualizing the Model's structure\n",
        "from keras.utils import plot_model\n",
        "from IPython.display import Image\n",
        "import keras.utils.vis_utils\n",
        "from importlib import reload\n",
        "# Load libraries\n",
        "import pandas as pd\n",
        "from sklearn.tree import DecisionTreeClassifier # Import Decision Tree Classifier\n",
        "from sklearn.model_selection import train_test_split # Import train_test_split function\n",
        "reload(keras.utils.vis_utils)\n",
        "from sklearn import metrics\n",
        "X_train, X_test, y_train, y_test = train_test_split(X, y, test_size=0.3, random_state=1) # 70% training and 30% test\n",
        "# Create Decision Tree classifer object\n",
        "clf = DecisionTreeClassifier()\n",
        "\n",
        "# Train Decision Tree Classifer\n",
        "clf = clf.fit(X_train,y_train)\n",
        "\n",
        "#Predict the response for test dataset\n",
        "y_pred = clf.predict(X_test)\n",
        "# Model Accuracy, how often is the classifier correct?\n",
        "print(\"Accuracy:\",metrics.accuracy_score(y_test, y_pred))\n",
        "\n",
        "from sklearn.tree import DecisionTreeClassifier\n",
        "from sklearn.model_selection import cross_val_score\n",
        "import numpy as np\n",
        "import matplotlib.pyplot as plt\n",
        "\n",
        "# function for fitting trees of various depths on the training data using cross-validation\n",
        "def run_cross_validation_on_trees(X, y, tree_depths, cv=5, scoring='accuracy'):\n",
        "    cv_scores_list = []\n",
        "    cv_scores_std = []\n",
        "    cv_scores_mean = []\n",
        "    accuracy_scores = []\n",
        "    for depth in tree_depths:\n",
        "        tree_model = DecisionTreeClassifier(max_depth=depth)\n",
        "        cv_scores = cross_val_score(tree_model, X, y, cv=cv, scoring=scoring)\n",
        "        cv_scores_list.append(cv_scores)\n",
        "        cv_scores_mean.append(cv_scores.mean())\n",
        "        cv_scores_std.append(cv_scores.std())\n",
        "        accuracy_scores.append(tree_model.fit(X, y).score(X, y))\n",
        "    cv_scores_mean = np.array(cv_scores_mean)\n",
        "    cv_scores_std = np.array(cv_scores_std)\n",
        "    accuracy_scores = np.array(accuracy_scores)\n",
        "    return cv_scores_mean, cv_scores_std, accuracy_scores\n",
        "  \n",
        "# function for plotting cross-validation results\n",
        "def plot_cross_validation_on_trees(depths, cv_scores_mean, cv_scores_std, accuracy_scores, title):\n",
        "    fig, ax = plt.subplots(1,1, figsize=(15,5))\n",
        "    ax.plot(depths, cv_scores_mean, '-o', label='mean cross-validation accuracy', alpha=0.9)\n",
        "    ax.fill_between(depths, cv_scores_mean-2*cv_scores_std, cv_scores_mean+2*cv_scores_std, alpha=0.2)\n",
        "    ylim = plt.ylim()\n",
        "    ax.plot(depths, accuracy_scores, '-*', label='train accuracy', alpha=0.9)\n",
        "    ax.set_title(title, fontsize=16)\n",
        "    ax.set_xlabel('Tree depth', fontsize=14)\n",
        "    ax.set_ylabel('Accuracy', fontsize=14)\n",
        "    ax.set_ylim(ylim)\n",
        "    ax.set_xticks(depths)\n",
        "    ax.legend()\n",
        "\n",
        "# fitting trees of depth 1 to 10\n",
        "sm_tree_depths = range(1,10)\n",
        "sm_cv_scores_mean, sm_cv_scores_std, sm_accuracy_scores = run_cross_validation_on_trees(X_train, y_train, sm_tree_depths)\n",
        "\n",
        "# plotting accuracy\n",
        "plot_cross_validation_on_trees(sm_tree_depths, sm_cv_scores_mean, sm_cv_scores_std, sm_accuracy_scores, \n",
        "                               'Accuracy per decision tree depth on training data')\n",
        "\n"
      ],
      "metadata": {
        "id": "qwT938JmMolo",
        "colab": {
          "base_uri": "https://localhost:8080/",
          "height": 373
        },
        "outputId": "c2e73e8a-3c6d-426e-facd-dbf86afe5dab"
      },
      "execution_count": null,
      "outputs": [
        {
          "output_type": "stream",
          "name": "stdout",
          "text": [
            "Accuracy: 0.6666666666666666\n"
          ]
        },
        {
          "output_type": "display_data",
          "data": {
            "text/plain": [
              "<Figure size 1080x360 with 1 Axes>"
            ],
            "image/png": "[encoded data removed]"
          },
          "metadata": {
            "needs_background": "light"
          }
        }
      ]
    },
    {
      "cell_type": "markdown",
      "source": [
        "0.66666666 accuracy with a standard deviation of 0.29"
      ],
      "metadata": {
        "id": "1hGQTgzOWElI"
      }
    },
    {
      "cell_type": "markdown",
      "source": [
        "\n",
        "\n",
        "---\n",
        "\n",
        "\n",
        "### Q1.2 (optional) Generating a Learning Curve \n",
        "In this question, we will use the optimal maximum layer as we got from the last question. We combine the training and validation dataset into the total training set. \n",
        "\n",
        "We will generate and output a plot showing the learning curve over the total training data. The learning curve should **plot the mean and standard deviation of the testing error** for $10\\%, 20\\%, \\dots, 100\\% $ of the total training data. Note that $100\\%$ of the total training data corresponds to $90\\%$ of the complete data set. As before, the learning curve statistics should be computed over 100 trials for each different amount of training data. "
      ],
      "metadata": {
        "id": "Bcwg0O3b3zPv"
      }
    },
    {
      "cell_type": "code",
      "source": [
        "# Q1.2  your code starts here"
      ],
      "metadata": {
        "id": "Ps_A9LZO3-hJ"
      },
      "execution_count": null,
      "outputs": []
    },
    {
      "cell_type": "markdown",
      "source": [
        "# Your Solution:"
      ],
      "metadata": {
        "id": "nFQwBNbv4MdS"
      }
    },
    {
      "cell_type": "markdown",
      "source": [
        "\n",
        "\n",
        "---\n",
        "\n",
        "\n",
        "\n",
        "---\n",
        "\n",
        "\n",
        "# Important information\n",
        "One of the most difficult aspects of machine learning is that your classifier must generalize well to unseen\n",
        "data. In the following questions, we are supplying you with labeled training data and unlabeled test data. Specifically,\n",
        "**you will not have access to the labels for the test data**, which we will use to grade your homework. You will fit the best model that you can to the given data and then use that model to predict labels for the test data. It is these predicted labels that you will submit, and we will grade your submission based on your test\n",
        "accuracy (relative to the best performance you should be able to obtain). We will **compute your test accuracy based on your predicted labels for the test data and the true test labels**. Note also that we will not be providing any feedback on your predictions\n",
        "or your test accuracy when you submit your assignment, so you must do your best without feedback on your\n",
        "test performance."
      ],
      "metadata": {
        "id": "bFdid6YzIkWV"
      }
    },
    {
      "cell_type": "markdown",
      "source": [
        "\n",
        "\n",
        "---\n",
        "\n",
        "\n",
        "\n",
        "---\n",
        "\n",
        "\n",
        "# Q2: Boosted Decision Tree (70pt)\n",
        "In class, we mentioned that boosted decision trees have been shown to be one of the best “out-of-the-box”\n",
        "classifiers. (That is, if you know nothing about the data set and can’t do parameter tuning, they will likely\n",
        "work quite well.) Boosting allows the decision trees to represent a much more complex decision surface than\n",
        "a single decision tree.\n",
        "\n",
        "\n",
        "---\n",
        "\n",
        "\n",
        "### Q2.1 Implementation (40pt)\n",
        "Write a class that implements a boosted decision tree classifier. Your implementation may rely on the\n",
        "decision tree classifier already provided in `sklearn.tree.DecisionTreeClassifier`. But you\n",
        "**must implement the boosting process yourself**. (The scikit_learn module actually provides boosting as a\n",
        "meta-classifier, but you must not use it in your implementation.) Each decision tree in the ensemble should\n",
        "be limited to a maximum depth as specified in the `BoostedDT` constructor. You can configure the maximum\n",
        "depth of the tree via the `max_depth` argument to the `DecisionTreeClassifier` constructor.\n",
        "\n",
        "You must implement the following class: \n",
        "\n",
        "- `__init__(numBoostingIters = 100, maxTreeDepth = 3)`:  the constructor, which takes in the number of boosting iterations (default value: 100) and the maximum depth of the member decision trees (default: 3). \n",
        "\n",
        "- `fit(X,y)`: train the classifier from labeled data $(\\m{X}, \\m{y})$\n",
        "\n",
        "- `predict(X)`:  return an array of $N$ predictions for each of $N$ rows of $\\m{X}$. \n",
        "\n",
        "Be very careful not\n",
        "to change the class. You should configure your boosted decision tree classifier to be the best “out-of-the-box”\n",
        "classifier you can; you may not modify the constructor to take in additional parameters (e.g., to configure\n",
        "the individual decision trees).\n",
        "\n",
        "There is one additional change you need to make to **AdaBoost** beyond the algorithm described in class.\n",
        "AdaBoost by default only works with binary classes, but in this case, we have a multi-class classification\n",
        "problem. One variant of AdaBoost, called **AdaBoost-SAMME**, easily adapts AdaBoost to multiple classes.\n",
        "Instead of using the equation $\\beta_t = \\frac{1}{2}\\ln\\left(\\frac{1-\\epsilon}{\\epsilon}\\right)$ in AdaBoost, , you should use the AdaBoost-SAMME equation \n",
        "\\begin{align}\n",
        "\\beta_t = \\frac{1}{2}\\left(\\ln\\left(\\frac{1-\\epsilon}{\\epsilon}\\right)+\\ln(K-1)\\right)\n",
        "\\end{align}\n",
        "where $K$ is the total number of classes. This will force $\\beta_t\\ge 0$  as long as the classifier is no worse than\n",
        "random guessing. Note that when $K=2$, AdaBoost-SAMME reduces to AdaBoost. \n",
        "\n",
        "You should test your `BoostedDT` model to a\n",
        "regular decision tree on the iris data with a 50:50 training/testing split. You should see that your `BoostedDT`\n",
        "model is able to obtain 97% accuracy vs the 96% accuracy of regular decision trees. Make certain that your\n",
        "implementation works correctly before moving on to the next part."
      ],
      "metadata": {
        "id": "IzBhO8uB89Xv"
      }
    },
    {
      "cell_type": "code",
      "source": [
        "# Q2.1 \n",
        "import numpy as np\n",
        "from sklearn import tree\n",
        "from sklearn.metrics import accuracy_score\n",
        "class BoostedDT:\n",
        "\n",
        "    def __init__(self, num_boosting_iters=100, max_tree_depth=3):\n",
        "        \"\"\"\n",
        "        Constructor\n",
        "        \"\"\"\n",
        "        # TODO\n",
        "        '''\n",
        "        Constructor\n",
        "        '''\n",
        "        self.numBoostingIters=num_boosting_iters\n",
        "        self.MaxTreeDepth=max_tree_depth\n",
        "        self.H_DT=[None]*self.numBoostingIters\n",
        "        self.alpha=np.zeros(self.numBoostingIters)\n",
        "        self.numlabels=None\n",
        "        self.labels=None   \n",
        "\n",
        "    def fit(self, X, y):\n",
        "        \"\"\"\n",
        "        Trains the model\n",
        "        Arguments:\n",
        "            X is a n-by-d numpy array\n",
        "            y is an n-dimensional numpy array\n",
        "        \"\"\"\n",
        "        # TODO: np.unique and np logical functions (logical_and/or/not) may be helpful to your implementation\n",
        "        n,d=X.shape\n",
        "        self.labels=np.unique(y) \n",
        "        self.numlabels=self.labels.size\n",
        "        sample_wt=np.ones(n)/n\n",
        "        for i in range(self.numBoostingIters):\n",
        "             self.H_DT[i]=tree.DecisionTreeClassifier(max_depth=self.MaxTreeDepth)\n",
        "             self.H_DT[i].fit(X,y,sample_weight=sample_wt)\n",
        "             y_pred=self.H_DT[i].predict(X)\n",
        "             wt_error=((y_pred!=y)*sample_wt).sum()\n",
        "             self.alpha[i]=0.5*(np.log((1-wt_error)/wt_error)+np.log(self.numlabels-1))\n",
        "             for j in range(n):\n",
        "                 if y_pred[j]==y[j] :\n",
        "                    sample_wt[j]=sample_wt[j]*np.exp(-1*self.alpha[i])\n",
        "                 else:\n",
        "                    sample_wt[j]=sample_wt[j]*np.exp(self.alpha[i])\n",
        "             sample_wt=sample_wt/sample_wt.sum()\n",
        "\n",
        "    def predict(self, X):\n",
        "        \"\"\"\n",
        "        Used the model to predict values for each instance in X\n",
        "        Arguments:\n",
        "            X is a n-by-d numpy array\n",
        "        Returns:\n",
        "            an n-dimensional numpy array of the predictions\n",
        "        \"\"\"\n",
        "        # TODO\n",
        "        n,d=X.shape\n",
        "        preds=np.zeros((n,self.numlabels))\n",
        "        for i in range(self.numBoostingIters):\n",
        "            y_pred=self.H_DT[i].predict(X)\n",
        "            for j in range(self.numlabels):\n",
        "                preds[:,j]=preds[:,j]+(y_pred==self.labels[j])*self.alpha[i]\n",
        "        y=self.labels[np.argmax(preds,axis=1)]\n",
        "        return y\n"
      ],
      "metadata": {
        "id": "LYvQiivRA5vP"
      },
      "execution_count": null,
      "outputs": []
    },
    {
      "cell_type": "code",
      "source": [
        "# test your code \n",
        "from sklearn.tree import DecisionTreeClassifier\n",
        "from sklearn.metrics import accuracy_score\n",
        "from sklearn.datasets import load_iris \n",
        "\n",
        "# load the data set\n",
        "iris = load_iris()\n",
        "X = iris.data\n",
        "y = iris.target\n",
        "\n",
        "n, d = X.shape\n",
        "nTrain = int(0.5*n)  # training on 50% of the data\n",
        "\n",
        "# shuffle the data\n",
        "idx = np.arange(n)\n",
        "np.random.seed(13)\n",
        "np.random.shuffle(idx)\n",
        "X = X[idx]\n",
        "y = y[idx]\n",
        "\n",
        "# split the data\n",
        "Xtrain = X[:nTrain, :]\n",
        "ytrain = y[:nTrain]\n",
        "Xtest = X[nTrain:, :]\n",
        "ytest = y[nTrain:]\n",
        "\n",
        "# train the decision tree\n",
        "modelDT = DecisionTreeClassifier()\n",
        "modelDT.fit(Xtrain, ytrain)\n",
        "\n",
        "# train the boosted DT\n",
        "modelBoostedDT = BoostedDT(num_boosting_iters=100, max_tree_depth=2)\n",
        "modelBoostedDT.fit(Xtrain, ytrain)\n",
        "\n",
        "# output predictions on the remaining data\n",
        "ypred_DT = modelDT.predict(Xtest)\n",
        "ypred_BoostedDT = modelBoostedDT.predict(Xtest)\n",
        "\n",
        "# compute the training accuracy of the model\n",
        "accuracyDT = accuracy_score(ytest, ypred_DT)\n",
        "accuracyBoostedDT = accuracy_score(ytest, ypred_BoostedDT)\n",
        "\n",
        "print(\"Decision Tree Accuracy = \" + str(accuracyDT))\n",
        "print(\"Boosted Decision Tree Accuracy = \" + str(accuracyBoostedDT))"
      ],
      "metadata": {
        "id": "PzEidNxZCBBO",
        "colab": {
          "base_uri": "https://localhost:8080/"
        },
        "outputId": "c9c79f78-0bf7-483f-f387-5c872bc2001b"
      },
      "execution_count": null,
      "outputs": [
        {
          "output_type": "stream",
          "name": "stdout",
          "text": [
            "Decision Tree Accuracy = 0.96\n",
            "Boosted Decision Tree Accuracy = 0.9733333333333334\n"
          ]
        }
      ]
    },
    {
      "cell_type": "markdown",
      "source": [
        "\n",
        "\n",
        "---\n",
        "### Q2.2: Generalizing to Unseen Data (10pt)\n",
        "\n",
        "Once your boosted decision tree is working, train your `BoostedDT` on the labeled data available in the file: `challengeTrainLabele.txt`.  The class labels are specified in the last column of data.  Then, use the trained `BoostedDT` classifier to predict a label $y\\in\\{1,\\dots, 9\\}$  for each unlabeled instance in `challengeTestUnlabeled.txt`. \n",
        "\n",
        "- Record the expected accuracy of your model. \n",
        "- Your implementation should output a comma-separated list of predicted labels, such as,\n",
        "1, 2, 1, 9, 4, 1, 3, 1, 5, 3, 4, 2, 8, 3, 1, 6, 3 ...\n",
        " \n",
        "- Save the comma-separated list into\n",
        "a text file named `predictions-BoostedDT.txt`. You may use the following command: `np.savetxt('predictions-BoostedDT.txt', predictions, delimiter=',')`. Your file will be saved in the folder of colab and you can download that from the file tab. \n",
        "\n",
        "\n",
        "\n",
        "Be very careful not to shuffle the instances in `challengeTestUnlabeled.txt`.  The first predicted label\n",
        "should correspond to the first unlabeled instance in the testing data. The number of predictions should\n",
        "match the number of unlabeled test instance.\n"
      ],
      "metadata": {
        "id": "E_RgYGcPkDi0"
      }
    },
    {
      "cell_type": "code",
      "source": [
        "!wget https://raw.githubusercontent.com/yexf308/AppliedStatistics/main/Homework/HW5/challengeTrainLabeled.txt?raw=true -O challengeTrainLabeled.txt\n",
        "!wget https://raw.githubusercontent.com/yexf308/AppliedStatistics/main/Homework/HW5/challengeTestUnlabeled.txt?raw=true -O challengeTestUnlabeled.txt"
      ],
      "metadata": {
        "id": "R3M9d-75jhDz",
        "colab": {
          "base_uri": "https://localhost:8080/"
        },
        "outputId": "0eb1b881-1324-44c4-9fc5-1f7ecb921b76"
      },
      "execution_count": null,
      "outputs": [
        {
          "output_type": "stream",
          "name": "stdout",
          "text": [
            "--2022-12-07 14:16:12--  https://raw.githubusercontent.com/yexf308/AppliedStatistics/main/Homework/HW5/challengeTrainLabeled.txt?raw=true\n",
            "Resolving raw.githubusercontent.com (raw.githubusercontent.com)... 185.199.108.133, 185.199.109.133, 185.199.110.133, ...\n",
            "Connecting to raw.githubusercontent.com (raw.githubusercontent.com)|185.199.108.133|:443... connected.\n",
            "HTTP request sent, awaiting response... 200 OK\n",
            "Length: 476031 (465K) [text/plain]\n",
            "Saving to: ‘challengeTrainLabeled.txt’\n",
            "\n",
            "challengeTrainLabel 100%[===================>] 464.87K  --.-KB/s    in 0.01s   \n",
            "\n",
            "2022-12-07 14:16:12 (30.4 MB/s) - ‘challengeTrainLabeled.txt’ saved [476031/476031]\n",
            "\n",
            "--2022-12-07 14:16:12--  https://raw.githubusercontent.com/yexf308/AppliedStatistics/main/Homework/HW5/challengeTestUnlabeled.txt?raw=true\n",
            "Resolving raw.githubusercontent.com (raw.githubusercontent.com)... 185.199.108.133, 185.199.109.133, 185.199.110.133, ...\n",
            "Connecting to raw.githubusercontent.com (raw.githubusercontent.com)|185.199.108.133|:443... connected.\n",
            "HTTP request sent, awaiting response... 200 OK\n",
            "Length: 76535 (75K) [text/plain]\n",
            "Saving to: ‘challengeTestUnlabeled.txt’\n",
            "\n",
            "challengeTestUnlabe 100%[===================>]  74.74K  --.-KB/s    in 0.005s  \n",
            "\n",
            "2022-12-07 14:16:13 (15.1 MB/s) - ‘challengeTestUnlabeled.txt’ saved [76535/76535]\n",
            "\n"
          ]
        }
      ]
    },
    {
      "cell_type": "code",
      "source": [
        "train = np.loadtxt('challengeTrainLabeled.txt', delimiter=',')\n",
        "test  = np.loadtxt('challengeTestUnlabeled.txt', delimiter=',')\n",
        "print(train[50])"
      ],
      "metadata": {
        "id": "4RzKV-akjyNL",
        "colab": {
          "base_uri": "https://localhost:8080/"
        },
        "outputId": "3e953b72-952d-4b1e-c237-46402c87b7dc"
      },
      "execution_count": null,
      "outputs": [
        {
          "output_type": "stream",
          "name": "stdout",
          "text": [
            "[-2.284473 -0.447389 -1.743298  1.495562 -0.365162  0.033192 -0.051152\n",
            "  0.354553  0.878573  0.105946  5.      ]\n"
          ]
        }
      ]
    },
    {
      "cell_type": "markdown",
      "source": [],
      "metadata": {
        "id": "3MuguuKZso_O"
      }
    },
    {
      "cell_type": "code",
      "source": [
        "# Q2.2 Your code starts here. \n",
        "\n",
        "\n",
        "from sklearn.metrics import accuracy_score\n",
        "import numpy as np\n",
        "#get the training labels from the train data,the last column\n",
        "y=[]\n",
        "X=[]\n",
        "for arr1 in train:\n",
        "    y.append(int(arr1[len(arr1)-1]));\n",
        "for arr1 in train:\n",
        "    X.append(arr1[0:-1])    \n",
        "\n",
        "\n",
        "# train the boosted DT\n",
        "modelBoostedDT = BoostedDT(num_boosting_iters=100, max_tree_depth=2)\n",
        "\n",
        "Xtrain=np.array(X)\n",
        "ytrain=np.array(y)\n",
        "modelBoostedDT.fit(Xtrain, ytrain)\n",
        "predictions = modelBoostedDT.predict(test)\n",
        "\n",
        "np.savetxt('predictions-BoostedDT.txt', predictions, delimiter=',')\n",
        "sm_tree_depths = range(1,10)\n",
        "sm_cv_scores_mean, sm_cv_scores_std, sm_accuracy_scores = run_cross_validation_on_trees(X_train, y_train, sm_tree_depths)"
      ],
      "metadata": {
        "id": "laPehOMVqdh1"
      },
      "execution_count": null,
      "outputs": []
    },
    {
      "cell_type": "markdown",
      "source": [
        "\n",
        "\n",
        "---\n",
        "\n",
        "\n",
        "### Q2.3 Training the Best Classifier (20pt) \n",
        "Now, train the very best classifier for the challenge data, and use that classifier to output a second vector\n",
        "of predictions for the test instances. You may use any machine learning algorithm you like, and may tune\n",
        "it any way you wish. You may use the method and helper functions built into scikit_learn.  you do not need\n",
        "to implement the method yourself, but may if you wish. If you can think of a way that the unlabeled data in `challengeTestUnlabeled.txt` would be useful during the training process, you are welcome to let\n",
        "your classifier have access to it during training.\n",
        "\n",
        "Again, be careful not to shuffle the test instances; the\n",
        "order of the predictions must match the order of the test instances. \n",
        "\n",
        "- Record the expected accuracy of your model.\n",
        "\n",
        "- save the comma-separated list into a\n",
        "text file named `predictions-BestClassifier.txt`. this file should have one line of text that contains the\n",
        "list of predictions.\n",
        "\n",
        "- Write a brief paragraph (6–8 sentences max) describing the best machine learning classifier you found, its\n",
        "optimal parameter settings (if any), and how you trained the model."
      ],
      "metadata": {
        "id": "UzMBneFnrGaw"
      }
    },
    {
      "cell_type": "code",
      "source": [
        "# Q2.3 Your code starts here. \n",
        "# Splitting data into training and testing data\n",
        "from sklearn.model_selection import train_test_split\n",
        "\n",
        "X_train, X_test, y_train, y_test = train_test_split(X, y, random_state = 100)\n",
        "from sklearn.tree import DecisionTreeClassifier\n",
        "clf = DecisionTreeClassifier()\n",
        "clf.fit(Xtrain, ytrain)\n",
        "# Making Predictions with Our Model\n",
        "predictions = clf.predict(X_test)\n",
        "print(predictions)\n",
        "np.savetxt('predictions-BestClassifier.txt', predictions, delimiter=',')\n",
        "\n",
        "from sklearn.metrics import accuracy_score\n",
        "print(\"accuracy=\")\n",
        "print(accuracy_score(y_test, predictions))"
      ],
      "metadata": {
        "id": "zbRMulsgBuYP",
        "colab": {
          "base_uri": "https://localhost:8080/"
        },
        "outputId": "42e18504-180b-4a3f-f692-c466fe3eade7"
      },
      "execution_count": null,
      "outputs": [
        {
          "output_type": "stream",
          "name": "stdout",
          "text": [
            "[7 1 9 4 2 6 7 9 5 7 2 4 7 6 7 5 6 9 9 6 9 1 5 2 1 7 5 6 3 6 4 8 3 9 2 3 8\n",
            " 9 6 4 4 2 3 5 3 5 4 8 2 3 9 4 6 8 7 4 9 8 9 4 4 5 9 3 7 2 1 6 1 6 4 4 3 1\n",
            " 3 7 9 4 7 1 1 2 1 8 9 5 2 5 8 1 8 1 1 5 9 5 8 2 4 2 9 1 3 1 5 2 5 9 6 4 9\n",
            " 5 2 9 2 3 1 9 4 8 4 6 9 5 8 8 8 7 2 7 7 6 9 2 4 3 3 4 8 5 8 3 2 1 9 3 8 8\n",
            " 2 6 9 6 7 6 3 7 9 8 3 7 2 5 2 3 8 8 7 8 5 4 1 4 6 5 7 5 6 8 9 6 1 7 7 1 9\n",
            " 4 7 4 9 6 8 3 2 6 6 7 4 1 2 1 8 5 7 2 8 7 7 5 7 4 6 8 7 3 7 6 1 7 7 8 4 9\n",
            " 7 4 8 7 2 1 5 6 1 7 7 9 3 2 7 9 7 2 9 1 3 5 3 2 1 5 5 8 8 4 7 8 2 2 2 6 4\n",
            " 6 5 4 2 1 1 7 7 6 5 6 7 2 9 8 8 5 5 2 4 2 9 5 2 7 5 5 4 2 3 7 2 9 4 2 7 1\n",
            " 5 4 7 1 3 6 9 3 4 1 1 8 8 8 3 8 5 6 7 5 3 7 5 6 9 8 3 4 8 8 5 6 5 1 4 9 5\n",
            " 8 9 3 4 4 7 5 2 1 1 8 2 4 6 3 3 4 5 7 8 7 1 3 9 3 7 6 7 9 4 1 5 4 9 4 1 2\n",
            " 2 2 4 9 7 2 4 3 1 3 9 1 7 1 8 9 5 1 5 3 8 2 1 7 5 4 2 7 4 6 2 3 5 3 7 7 9\n",
            " 1 7 3 7 4 7 4 1 7 7 4 7 1 4 1 8 2 9]\n",
            "accuracy=\n",
            "1.0\n"
          ]
        }
      ]
    },
    {
      "cell_type": "markdown",
      "source": [
        "# Your Solution:"
      ],
      "metadata": {
        "id": "JAN2xmi0Bw0N"
      }
    },
    {
      "cell_type": "markdown",
      "source": [
        "\n",
        "\n",
        "\n",
        "\n",
        "---\n",
        "\n",
        "\n",
        "\n",
        "---\n",
        "\n",
        "# Q3: (optional) Correction to your previous homework question\n",
        "You may pick any one question in homework 1-4 that didn't perform well, and now you have the chance to correct your mistakes. If you successfully correct your mistakes, your previous grade will be replaced by the current score, e.g., say you want to correct HW3Q3: yelp recruiting, your previous score is 10/30 and after successful attempt, your score becomes 25/30. You will be awarded 15 bonus point here. \n",
        "\n",
        "**State Your question that you want to correct:**"
      ],
      "metadata": {
        "id": "kLyFlOHlDHaI"
      }
    },
    {
      "cell_type": "code",
      "source": [
        "# Your new code starts here"
      ],
      "metadata": {
        "id": "X0YWIlYqG9sc"
      },
      "execution_count": null,
      "outputs": []
    },
    {
      "cell_type": "markdown",
      "source": [
        "# Your New Solution:"
      ],
      "metadata": {
        "id": "GTWPJIQDG_sB"
      }
    }
  ]
}